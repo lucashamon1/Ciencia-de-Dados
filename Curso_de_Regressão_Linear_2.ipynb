{
  "nbformat": 4,
  "nbformat_minor": 0,
  "metadata": {
    "colab": {
      "name": "Curso de Regressão Linear 2",
      "provenance": [],
      "mount_file_id": "1Vb2090zsaSOSK8WTPVCjtFSDQIiTQ39N",
      "authorship_tag": "ABX9TyNqy0pKu1dHpHsbub3QYi/y",
      "include_colab_link": true
    },
    "kernelspec": {
      "name": "python3",
      "display_name": "Python 3"
    },
    "language_info": {
      "name": "python"
    }
  },
  "cells": [
    {
      "cell_type": "markdown",
      "metadata": {
        "id": "view-in-github",
        "colab_type": "text"
      },
      "source": [
        "<a href=\"https://colab.research.google.com/github/lucashamon1/Ciencia-de-Dados/blob/main/Curso_de_Regress%C3%A3o_Linear_2.ipynb\" target=\"_parent\"><img src=\"https://colab.research.google.com/assets/colab-badge.svg\" alt=\"Open In Colab\"/></a>"
      ]
    },
    {
      "cell_type": "code",
      "metadata": {
        "id": "LySKVHm-5lWP"
      },
      "source": [
        "import pandas as pd\n"
      ],
      "execution_count": 58,
      "outputs": []
    },
    {
      "cell_type": "code",
      "metadata": {
        "id": "5wDvWZ9077x2"
      },
      "source": [
        "dados = pd.read_csv('dataset.csv', sep=';')"
      ],
      "execution_count": 59,
      "outputs": []
    },
    {
      "cell_type": "code",
      "metadata": {
        "id": "B6NEcaBHSN8x",
        "colab": {
          "base_uri": "https://localhost:8080/",
          "height": 206
        },
        "outputId": "c687c007-5a36-4698-ed0a-196bb110a0c9"
      },
      "source": [
        "dados.head(5)"
      ],
      "execution_count": 60,
      "outputs": [
        {
          "output_type": "execute_result",
          "data": {
            "text/html": [
              "<div>\n",
              "<style scoped>\n",
              "    .dataframe tbody tr th:only-of-type {\n",
              "        vertical-align: middle;\n",
              "    }\n",
              "\n",
              "    .dataframe tbody tr th {\n",
              "        vertical-align: top;\n",
              "    }\n",
              "\n",
              "    .dataframe thead th {\n",
              "        text-align: right;\n",
              "    }\n",
              "</style>\n",
              "<table border=\"1\" class=\"dataframe\">\n",
              "  <thead>\n",
              "    <tr style=\"text-align: right;\">\n",
              "      <th></th>\n",
              "      <th>Valor</th>\n",
              "      <th>Area</th>\n",
              "      <th>Dist_Praia</th>\n",
              "      <th>Dist_Farmacia</th>\n",
              "    </tr>\n",
              "  </thead>\n",
              "  <tbody>\n",
              "    <tr>\n",
              "      <th>0</th>\n",
              "      <td>4600000</td>\n",
              "      <td>280</td>\n",
              "      <td>0.240925</td>\n",
              "      <td>0.793637</td>\n",
              "    </tr>\n",
              "    <tr>\n",
              "      <th>1</th>\n",
              "      <td>900000</td>\n",
              "      <td>208</td>\n",
              "      <td>0.904136</td>\n",
              "      <td>0.134494</td>\n",
              "    </tr>\n",
              "    <tr>\n",
              "      <th>2</th>\n",
              "      <td>2550000</td>\n",
              "      <td>170</td>\n",
              "      <td>0.059525</td>\n",
              "      <td>0.423318</td>\n",
              "    </tr>\n",
              "    <tr>\n",
              "      <th>3</th>\n",
              "      <td>550000</td>\n",
              "      <td>100</td>\n",
              "      <td>2.883181</td>\n",
              "      <td>0.525064</td>\n",
              "    </tr>\n",
              "    <tr>\n",
              "      <th>4</th>\n",
              "      <td>2200000</td>\n",
              "      <td>164</td>\n",
              "      <td>0.239758</td>\n",
              "      <td>0.192374</td>\n",
              "    </tr>\n",
              "  </tbody>\n",
              "</table>\n",
              "</div>"
            ],
            "text/plain": [
              "     Valor  Area  Dist_Praia  Dist_Farmacia\n",
              "0  4600000   280    0.240925       0.793637\n",
              "1   900000   208    0.904136       0.134494\n",
              "2  2550000   170    0.059525       0.423318\n",
              "3   550000   100    2.883181       0.525064\n",
              "4  2200000   164    0.239758       0.192374"
            ]
          },
          "metadata": {},
          "execution_count": 60
        }
      ]
    },
    {
      "cell_type": "code",
      "source": [
        "dados.shape"
      ],
      "metadata": {
        "colab": {
          "base_uri": "https://localhost:8080/"
        },
        "id": "ihFXpRz_Js3Z",
        "outputId": "7018247b-411a-455e-cfcb-d8ba8843480e"
      },
      "execution_count": 61,
      "outputs": [
        {
          "output_type": "execute_result",
          "data": {
            "text/plain": [
              "(5000, 4)"
            ]
          },
          "metadata": {},
          "execution_count": 61
        }
      ]
    },
    {
      "cell_type": "markdown",
      "source": [
        "##**Análises Preliminares**"
      ],
      "metadata": {
        "id": "_KFGjymNKLOR"
      }
    },
    {
      "cell_type": "code",
      "source": [
        "dados.describe().round(2)"
      ],
      "metadata": {
        "colab": {
          "base_uri": "https://localhost:8080/",
          "height": 300
        },
        "id": "T_JRfMICJwzd",
        "outputId": "ca467903-012c-432e-cdc5-a24a90978cda"
      },
      "execution_count": 62,
      "outputs": [
        {
          "output_type": "execute_result",
          "data": {
            "text/html": [
              "<div>\n",
              "<style scoped>\n",
              "    .dataframe tbody tr th:only-of-type {\n",
              "        vertical-align: middle;\n",
              "    }\n",
              "\n",
              "    .dataframe tbody tr th {\n",
              "        vertical-align: top;\n",
              "    }\n",
              "\n",
              "    .dataframe thead th {\n",
              "        text-align: right;\n",
              "    }\n",
              "</style>\n",
              "<table border=\"1\" class=\"dataframe\">\n",
              "  <thead>\n",
              "    <tr style=\"text-align: right;\">\n",
              "      <th></th>\n",
              "      <th>Valor</th>\n",
              "      <th>Area</th>\n",
              "      <th>Dist_Praia</th>\n",
              "      <th>Dist_Farmacia</th>\n",
              "    </tr>\n",
              "  </thead>\n",
              "  <tbody>\n",
              "    <tr>\n",
              "      <th>count</th>\n",
              "      <td>5000.00</td>\n",
              "      <td>5000.00</td>\n",
              "      <td>5000.00</td>\n",
              "      <td>5000.00</td>\n",
              "    </tr>\n",
              "    <tr>\n",
              "      <th>mean</th>\n",
              "      <td>1402926.39</td>\n",
              "      <td>121.94</td>\n",
              "      <td>3.02</td>\n",
              "      <td>0.50</td>\n",
              "    </tr>\n",
              "    <tr>\n",
              "      <th>std</th>\n",
              "      <td>1883268.85</td>\n",
              "      <td>90.54</td>\n",
              "      <td>3.17</td>\n",
              "      <td>0.29</td>\n",
              "    </tr>\n",
              "    <tr>\n",
              "      <th>min</th>\n",
              "      <td>75000.00</td>\n",
              "      <td>16.00</td>\n",
              "      <td>0.00</td>\n",
              "      <td>0.00</td>\n",
              "    </tr>\n",
              "    <tr>\n",
              "      <th>25%</th>\n",
              "      <td>460000.00</td>\n",
              "      <td>70.00</td>\n",
              "      <td>0.44</td>\n",
              "      <td>0.24</td>\n",
              "    </tr>\n",
              "    <tr>\n",
              "      <th>50%</th>\n",
              "      <td>820000.00</td>\n",
              "      <td>93.00</td>\n",
              "      <td>1.48</td>\n",
              "      <td>0.50</td>\n",
              "    </tr>\n",
              "    <tr>\n",
              "      <th>75%</th>\n",
              "      <td>1590000.00</td>\n",
              "      <td>146.00</td>\n",
              "      <td>5.61</td>\n",
              "      <td>0.75</td>\n",
              "    </tr>\n",
              "    <tr>\n",
              "      <th>max</th>\n",
              "      <td>25000000.00</td>\n",
              "      <td>2000.00</td>\n",
              "      <td>17.96</td>\n",
              "      <td>1.00</td>\n",
              "    </tr>\n",
              "  </tbody>\n",
              "</table>\n",
              "</div>"
            ],
            "text/plain": [
              "             Valor     Area  Dist_Praia  Dist_Farmacia\n",
              "count      5000.00  5000.00     5000.00        5000.00\n",
              "mean    1402926.39   121.94        3.02           0.50\n",
              "std     1883268.85    90.54        3.17           0.29\n",
              "min       75000.00    16.00        0.00           0.00\n",
              "25%      460000.00    70.00        0.44           0.24\n",
              "50%      820000.00    93.00        1.48           0.50\n",
              "75%     1590000.00   146.00        5.61           0.75\n",
              "max    25000000.00  2000.00       17.96           1.00"
            ]
          },
          "metadata": {},
          "execution_count": 62
        }
      ]
    },
    {
      "cell_type": "code",
      "source": [
        "dados.corr().round(4)"
      ],
      "metadata": {
        "colab": {
          "base_uri": "https://localhost:8080/",
          "height": 175
        },
        "id": "w2fYvEL-KV17",
        "outputId": "718dbacf-6ad7-480d-c43c-076af2b34a45"
      },
      "execution_count": 63,
      "outputs": [
        {
          "output_type": "execute_result",
          "data": {
            "text/html": [
              "<div>\n",
              "<style scoped>\n",
              "    .dataframe tbody tr th:only-of-type {\n",
              "        vertical-align: middle;\n",
              "    }\n",
              "\n",
              "    .dataframe tbody tr th {\n",
              "        vertical-align: top;\n",
              "    }\n",
              "\n",
              "    .dataframe thead th {\n",
              "        text-align: right;\n",
              "    }\n",
              "</style>\n",
              "<table border=\"1\" class=\"dataframe\">\n",
              "  <thead>\n",
              "    <tr style=\"text-align: right;\">\n",
              "      <th></th>\n",
              "      <th>Valor</th>\n",
              "      <th>Area</th>\n",
              "      <th>Dist_Praia</th>\n",
              "      <th>Dist_Farmacia</th>\n",
              "    </tr>\n",
              "  </thead>\n",
              "  <tbody>\n",
              "    <tr>\n",
              "      <th>Valor</th>\n",
              "      <td>1.0000</td>\n",
              "      <td>0.7110</td>\n",
              "      <td>-0.3665</td>\n",
              "      <td>-0.0244</td>\n",
              "    </tr>\n",
              "    <tr>\n",
              "      <th>Area</th>\n",
              "      <td>0.7110</td>\n",
              "      <td>1.0000</td>\n",
              "      <td>-0.2834</td>\n",
              "      <td>-0.0310</td>\n",
              "    </tr>\n",
              "    <tr>\n",
              "      <th>Dist_Praia</th>\n",
              "      <td>-0.3665</td>\n",
              "      <td>-0.2834</td>\n",
              "      <td>1.0000</td>\n",
              "      <td>0.0256</td>\n",
              "    </tr>\n",
              "    <tr>\n",
              "      <th>Dist_Farmacia</th>\n",
              "      <td>-0.0244</td>\n",
              "      <td>-0.0310</td>\n",
              "      <td>0.0256</td>\n",
              "      <td>1.0000</td>\n",
              "    </tr>\n",
              "  </tbody>\n",
              "</table>\n",
              "</div>"
            ],
            "text/plain": [
              "                Valor    Area  Dist_Praia  Dist_Farmacia\n",
              "Valor          1.0000  0.7110     -0.3665        -0.0244\n",
              "Area           0.7110  1.0000     -0.2834        -0.0310\n",
              "Dist_Praia    -0.3665 -0.2834      1.0000         0.0256\n",
              "Dist_Farmacia -0.0244 -0.0310      0.0256         1.0000"
            ]
          },
          "metadata": {},
          "execution_count": 63
        }
      ]
    },
    {
      "cell_type": "code",
      "source": [
        "ax = sns.displot(dados['Valor'])\n",
        "ax.figure.set_size_inches(20, 6)\n",
        "ax.set_title('Distribuição de Frequências', fontsize=20)\n",
        "ax.set_xlabel('Preço dos Imóveis (R$)', fontsize=16)\n",
        "ax"
      ],
      "metadata": {
        "colab": {
          "base_uri": "https://localhost:8080/",
          "height": 647
        },
        "id": "UbnoYRQKL9d1",
        "outputId": "e09e716f-b218-42c9-c224-25c717fba5be"
      },
        {
          "output_type": "display_data",
          "data": {
            "image/png": "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\n",
            "text/plain": [
              "<Figure size 1440x432 with 1 Axes>"
            ]
          },
          "metadata": {}
        }
      ]
    },
    {
      "cell_type": "code",
      "source": [
        "import seaborn as sns"
      ],
      "metadata": {
        "id": "Fdzhi5TUKop6"
      },
      "execution_count": 64,
      "outputs": []
    },
    {
      "cell_type": "code",
      "source": [
        "sns.set_palette('Accent')\n",
        "sns.set_style('darkgrid')"
      ],
      "metadata": {
        "id": "XkGH50vqLYmQ"
      },
      "execution_count": 65,
      "outputs": []
    },
    {
      "cell_type": "code",
      "source": [
        "ax = sns.boxenplot(data=dados['Valor'], orient= 'h', width=0.7)\n",
        "ax.figure.set_size_inches(20, 5)\n",
        "ax.set_title('Preço dos Imóveis', fontsize=20)\n",
        "ax.set_xlabel('Reais', fontsize=16)\n",
        "ax"
      ],
      "metadata": {
        "colab": {
          "base_uri": "https://localhost:8080/",
          "height": 378
        },
        "id": "RKIsfyyfL5yD",
        "outputId": "f312980f-32a5-4242-9f63-1d04d991a048"
      },
      "execution_count": 66,
      "outputs": [
        {
          "output_type": "execute_result",
          "data": {
            "text/plain": [
              "<matplotlib.axes._subplots.AxesSubplot at 0x7fb47eb62b10>"
            ]
          },
          "metadata": {},
          "execution_count": 66
        },
        {
          "output_type": "display_data",
          "data": {
            "image/png": "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\n",
            "text/plain": [
              "<Figure size 1440x360 with 1 Axes>"
            ]
          },
          "metadata": {}
        }
      ]
    },
    {
      "cell_type": "code",
      "source": [
        "ax = sns.pairplot(dados, y_vars='Valor', x_vars=['Area', 'Dist_Praia', 'Dist_Farmacia'], height=5)\n",
        "ax.fig.suptitle('Dispersão entre as variáveis', fontsize=20, y=1.05)\n",
        "ax"
      ],
      "metadata": {
        "id": "XvJkjhpeM_H2"
      },
      "execution_count": null,
      "outputs": []
    },
    {
      "cell_type": "code",
      "source": [
        "ax = sns.pairplot(dados, y_vars='Valor', x_vars=['Area', 'Dist_Praia', 'Dist_Farmacia'], kind='reg', height=5)\n",
        "ax.fig.suptitle('Dispersão entre as Variáveis', fontsize=20, y=1.05)\n",
        "ax"
      ],
      "metadata": {
        "id": "mRg5IOquO0dt"
      },
      "execution_count": null,
      "outputs": []
    },
    {
      "cell_type": "markdown",
      "source": [
        "##**Transformação Logarítmica Nos Dados**"
      ],
      "metadata": {
        "id": "CVzRtjLrPRfK"
      }
    },
    {
      "cell_type": "code",
      "source": [
        "import numpy as np"
      ],
      "metadata": {
        "id": "NFtu5tKUPGVZ"
      },
      "execution_count": null,
      "outputs": []
    },
    {
      "cell_type": "code",
      "source": [
        "dados['log_Valor'] = np.log(dados['Valor'])\n",
        "dados['log_Area'] = np.log(dados['Area'])\n",
        "dados['log_Dist_Praia'] = np.log(dados['Dist_Praia'] + 1)\n",
        "dados['log_Dist_Farmacia'] = np.log(dados['Dist_Farmacia'] + 1)"
      ],
      "metadata": {
        "id": "o1ifWrROPtrV"
      },
      "execution_count": 97,
      "outputs": []
    },
    {
      "cell_type": "code",
      "source": [
        "ax = sns.distplot(dados['log_Valor'])\n",
        "ax.figure.set_size_inches(12,6)\n",
        "ax.set_title('Distribuição de Frequências', fontsize=20)\n",
        "ax.set_xlabel('log do Preço dos Imóveis', fontsize=16)\n",
        "ax"
      ],
      "metadata": {
        "id": "ffcHF6INQpm_"
      },
      "execution_count": null,
      "outputs": []
    },
    {
      "cell_type": "markdown",
      "source": [
        "##Verificando Relação Linear"
      ],
      "metadata": {
        "id": "_LEszWjTR6vJ"
      }
    },
    {
      "cell_type": "code",
      "source": [
        "ax = sns.pairplot(dados, y_vars='log_Valor', x_vars=['log_Area', 'log_Dist_Praia', 'log_Dist_Farmacia'], height=5)\n",
        "ax.fig.suptitle('Dispersão entre as variáveis', fontsize=20, y=1.05)\n",
        "ax"
      ],
      "metadata": {
        "id": "kOw6jMSuRga6"
      },
      "execution_count": null,
      "outputs": []
    },
    {
      "cell_type": "markdown",
      "source": [
        "##**Criando os Datasets de Treino e de Teste**"
      ],
      "metadata": {
        "id": "myGcXEYp1xCW"
      }
    },
    {
      "cell_type": "code",
      "source": [
        "from sklearn.model_selection import train_test_split"
      ],
      "metadata": {
        "id": "ukTsbthq1v73"
      },
      "execution_count": null,
      "outputs": []
    },
    {
      "cell_type": "code",
      "source": [
        "y = dados['log_Valor']"
      ],
      "metadata": {
        "id": "6ex4YpwC2PJy"
      },
      "execution_count": null,
      "outputs": []
    },
    {
      "cell_type": "code",
      "source": [
        "x = dados[['log_Area','log_Dist_Praia','log_Dist_Farmacia']]"
      ],
      "metadata": {
        "id": "UxWBJyx12Y4Y"
      },
      "execution_count": null,
      "outputs": []
    },
    {
      "cell_type": "code",
      "source": [
        "x_train, x_test, y_train, y_test = train_test_split(x, y, test_size=0.2, random_state=2811)"
      ],
      "metadata": {
        "id": "0eZnhIW72pr3"
      },
      "execution_count": null,
      "outputs": []
    },
    {
      "cell_type": "code",
      "source": [
        "import statsmodels.api as sm "
      ],
      "metadata": {
        "id": "OC3kaFpt3AOU"
      },
      "execution_count": null,
      "outputs": []
    },
    {
      "cell_type": "code",
      "source": [
        "x_train_com_constante = sm.add_constant(x_train)"
      ],
      "metadata": {
        "id": "aOb4AwUu4FNw"
      },
      "execution_count": null,
      "outputs": []
    },
    {
      "cell_type": "code",
      "source": [
        "x_train_com_constante"
      ],
      "metadata": {
        "id": "zepTGww_4W_X"
      },
      "execution_count": null,
      "outputs": []
    },
    {
      "cell_type": "code",
      "source": [
        "modelo_statsmodels = sm.OLS(y_train, x_train_com_constante, hascont = True).fit()"
      ],
      "metadata": {
        "id": "rkV9I9Kh4bZh"
      },
      "execution_count": null,
      "outputs": []
    },
    {
      "cell_type": "code",
      "source": [
        "print(modelo_statsmodels.summary())"
      ],
      "metadata": {
        "id": "qDAp2fKu4zMr"
      },
      "execution_count": null,
      "outputs": []
    },
    {
      "cell_type": "markdown",
      "source": [
        "##Ajuste no modelo"
      ],
      "metadata": {
        "id": "dmYnKCV95Wii"
      }
    },
    {
      "cell_type": "code",
      "source": [
        "x = [['log_Area', 'log_Dist_Praia']]"
      ],
      "metadata": {
        "id": "F9x8SHKn6Y4w"
      },
      "execution_count": null,
      "outputs": []
    },
    {
      "cell_type": "code",
      "source": [
        "x_train, x_test, y_train, y_test = train_test_split(x, y, test_size=0.2, random_state=2811)"
      ],
      "metadata": {
        "id": "C7Ubn7gh8rfW"
      },
      "execution_count": null,
      "outputs": []
    },
    {
      "cell_type": "code",
      "source": [
        "x_train_com_constante = sm.add_constant(x_train)\n",
        "\n",
        "modelo_statsmodels = sm.OLS(y_train, x_train_com_constante, hasconst = True).fit()"
      ],
      "metadata": {
        "id": "HApipUtB84lm"
      },
      "execution_count": 68,
      "outputs": []
    },
    {
      "cell_type": "code",
      "source": [
        "print(modelo_statsmodels.summary())"
      ],
      "metadata": {
        "id": "FBhAkXGC8_K3",
        "colab": {
          "base_uri": "https://localhost:8080/"
        },
        "outputId": "3fcae411-41d1-45b7-daaf-c2b3c132f707"
      },
      "execution_count": 69,
      "outputs": [
        {
          "output_type": "stream",
          "name": "stdout",
          "text": [
            "                            OLS Regression Results                            \n",
            "==============================================================================\n",
            "Dep. Variable:              log_Valor   R-squared:                       0.805\n",
            "Model:                            OLS   Adj. R-squared:                  0.805\n",
            "Method:                 Least Squares   F-statistic:                     5495.\n",
            "Date:                Wed, 15 Dec 2021   Prob (F-statistic):               0.00\n",
            "Time:                        16:47:13   Log-Likelihood:                -2044.9\n",
            "No. Observations:                4000   AIC:                             4098.\n",
            "Df Residuals:                    3996   BIC:                             4123.\n",
            "Df Model:                           3                                         \n",
            "Covariance Type:            nonrobust                                         \n",
            "=====================================================================================\n",
            "                        coef    std err          t      P>|t|      [0.025      0.975]\n",
            "-------------------------------------------------------------------------------------\n",
            "const                 9.3417      0.060    154.734      0.000       9.223       9.460\n",
            "log_Area              1.0580      0.012     89.320      0.000       1.035       1.081\n",
            "log_Dist_Praia       -0.4905      0.009    -56.690      0.000      -0.508      -0.474\n",
            "log_Dist_Farmacia    -0.0167      0.032     -0.521      0.603      -0.080       0.046\n",
            "==============================================================================\n",
            "Omnibus:                       64.751   Durbin-Watson:                   1.971\n",
            "Prob(Omnibus):                  0.000   Jarque-Bera (JB):              106.858\n",
            "Skew:                           0.136   Prob(JB):                     6.25e-24\n",
            "Kurtosis:                       3.753   Cond. No.                         47.6\n",
            "==============================================================================\n",
            "\n",
            "Warnings:\n",
            "[1] Standard Errors assume that the covariance matrix of the errors is correctly specified.\n"
          ]
        }
      ]
    },
    {
      "cell_type": "code",
      "source": [
        "from sklearn.linear_model import LinearRegression\n",
        "from sklearn import metrics "
      ],
      "metadata": {
        "id": "OKNcgYGI9Rye"
      },
      "execution_count": 70,
      "outputs": []
    },
    {
      "cell_type": "code",
      "source": [
        "modelo = LinearRegression()"
      ],
      "metadata": {
        "id": "j_wGqNql_iBd"
      },
      "execution_count": 71,
      "outputs": []
    },
    {
      "cell_type": "code",
      "source": [
        "modelo.fit(x_train, y_train)"
      ],
      "metadata": {
        "colab": {
          "base_uri": "https://localhost:8080/"
        },
        "id": "qp-Z4XR9_983",
        "outputId": "a492cccd-fa68-4efe-dcf9-29409eb7aa88"
      },
      "execution_count": 72,
      "outputs": [
        {
          "output_type": "execute_result",
          "data": {
            "text/plain": [
              "LinearRegression()"
            ]
          },
          "metadata": {},
          "execution_count": 72
        }
      ]
    },
    {
      "cell_type": "code",
      "source": [
        "print('R2 = {}'.format(modelo.score(x_train, y_train).round(3)))"
      ],
      "metadata": {
        "colab": {
          "base_uri": "https://localhost:8080/"
        },
        "id": "jm8mNVyoAGqA",
        "outputId": "ebacf5b3-1646-4c0a-c7f3-f7835e11f949"
      },
      "execution_count": 73,
      "outputs": [
        {
          "output_type": "stream",
          "name": "stdout",
          "text": [
            "R2 = 0.805\n"
          ]
        }
      ]
    },
    {
      "cell_type": "code",
      "source": [
        "y_previsto = modelo.predict(x_test)"
      ],
      "metadata": {
        "id": "DiylwFxdAfpD"
      },
      "execution_count": 74,
      "outputs": []
    },
    {
      "cell_type": "code",
      "source": [
        "print('R2 = %s' % metrics.r2_score(y_test, y_previsto).round(3))"
      ],
      "metadata": {
        "colab": {
          "base_uri": "https://localhost:8080/"
        },
        "id": "oR-J8yi1ArCD",
        "outputId": "e5d1676e-d073-4156-b76e-4bec5104d02f"
      },
      "execution_count": 76,
      "outputs": [
        {
          "output_type": "stream",
          "name": "stdout",
          "text": [
            "R2 = 0.79\n"
          ]
        }
      ]
    },
    {
      "cell_type": "code",
      "source": [
        "entrada = x_test[0:1]\n",
        "entrada"
      ],
      "metadata": {
        "colab": {
          "base_uri": "https://localhost:8080/",
          "height": 81
        },
        "id": "uHBlt2_6BAo7",
        "outputId": "3188b65f-329e-48af-be33-0c0e0c0a6fa9"
      },
      "execution_count": 78,
      "outputs": [
        {
          "output_type": "execute_result",
          "data": {
            "text/html": [
              "<div>\n",
              "<style scoped>\n",
              "    .dataframe tbody tr th:only-of-type {\n",
              "        vertical-align: middle;\n",
              "    }\n",
              "\n",
              "    .dataframe tbody tr th {\n",
              "        vertical-align: top;\n",
              "    }\n",
              "\n",
              "    .dataframe thead th {\n",
              "        text-align: right;\n",
              "    }\n",
              "</style>\n",
              "<table border=\"1\" class=\"dataframe\">\n",
              "  <thead>\n",
              "    <tr style=\"text-align: right;\">\n",
              "      <th></th>\n",
              "      <th>log_Area</th>\n",
              "      <th>log_Dist_Praia</th>\n",
              "      <th>log_Dist_Farmacia</th>\n",
              "    </tr>\n",
              "  </thead>\n",
              "  <tbody>\n",
              "    <tr>\n",
              "      <th>1006</th>\n",
              "      <td>5.273</td>\n",
              "      <td>1.282769</td>\n",
              "      <td>0.546323</td>\n",
              "    </tr>\n",
              "  </tbody>\n",
              "</table>\n",
              "</div>"
            ],
            "text/plain": [
              "      log_Area  log_Dist_Praia  log_Dist_Farmacia\n",
              "1006     5.273        1.282769           0.546323"
            ]
          },
          "metadata": {},
          "execution_count": 78
        }
      ]
    },
    {
      "cell_type": "code",
      "source": [
        "modelo.predict(entrada)[0]"
      ],
      "metadata": {
        "colab": {
          "base_uri": "https://localhost:8080/"
        },
        "id": "CAYCd0HEDSJB",
        "outputId": "4deb4a07-8a2a-407a-b40b-d9d407345c23"
      },
      "execution_count": 79,
      "outputs": [
        {
          "output_type": "execute_result",
          "data": {
            "text/plain": [
              "14.28208909111974"
            ]
          },
          "metadata": {},
          "execution_count": 79
        }
      ]
    },
    {
      "cell_type": "code",
      "source": [
        "np.exp(modelo.predict(entrada)[0])"
      ],
      "metadata": {
        "colab": {
          "base_uri": "https://localhost:8080/"
        },
        "id": "6eE9hv_qDaLF",
        "outputId": "62566149-3252-4a83-99c5-baa5b4e41ee3"
      },
      "execution_count": 83,
      "outputs": [
        {
          "output_type": "execute_result",
          "data": {
            "text/plain": [
              "1594529.220576447"
            ]
          },
          "metadata": {},
          "execution_count": 83
        }
      ]
    },
    {
      "cell_type": "markdown",
      "source": [
        "##Interpretação dos Coeficientes"
      ],
      "metadata": {
        "id": "2slAo_h1FcZE"
      }
    },
    {
      "cell_type": "code",
      "source": [
        "modelo.intercept_"
      ],
      "metadata": {
        "colab": {
          "base_uri": "https://localhost:8080/"
        },
        "id": "eTEVhguiDmL7",
        "outputId": "106cb560-9e22-4247-aa6a-df8e4c0849bc"
      },
      "execution_count": 84,
      "outputs": [
        {
          "output_type": "execute_result",
          "data": {
            "text/plain": [
              "9.341686608010669"
            ]
          },
          "metadata": {},
          "execution_count": 84
        }
      ]
    },
    {
      "cell_type": "code",
      "source": [
        "np.exp(modelo.intercept_)"
      ],
      "metadata": {
        "colab": {
          "base_uri": "https://localhost:8080/"
        },
        "id": "jumCy3ArGlEu",
        "outputId": "f6a0ca4f-7144-4ce8-f56d-1ae12f473598"
      },
      "execution_count": 85,
      "outputs": [
        {
          "output_type": "execute_result",
          "data": {
            "text/plain": [
              "11403.625475732422"
            ]
          },
          "metadata": {},
          "execution_count": 85
        }
      ]
    },
    {
      "cell_type": "code",
      "source": [
        "##Coeficientes de Regressão"
      ],
      "metadata": {
        "id": "rh4h-91uGqr-"
      },
      "execution_count": 86,
      "outputs": []
    },
    {
      "cell_type": "code",
      "source": [
        "modelo.coef_"
      ],
      "metadata": {
        "colab": {
          "base_uri": "https://localhost:8080/"
        },
        "id": "SM-GSomBG-JJ",
        "outputId": "d32f5dd3-2977-44b3-b12c-faadaa6e2b7d"
      },
      "execution_count": 87,
      "outputs": [
        {
          "output_type": "execute_result",
          "data": {
            "text/plain": [
              "array([ 1.05798934, -0.49054601, -0.01668921])"
            ]
          },
          "metadata": {},
          "execution_count": 87
        }
      ]
    },
    {
      "cell_type": "code",
      "source": [
        "x_test.columns"
      ],
      "metadata": {
        "colab": {
          "base_uri": "https://localhost:8080/"
        },
        "id": "OQQUGqgXHBTZ",
        "outputId": "664b9268-a747-41c2-c8fc-be8d0e3a7ea9"
      },
      "execution_count": 94,
      "outputs": [
        {
          "output_type": "execute_result",
          "data": {
            "text/plain": [
              "Index(['log_Area', 'log_Dist_Praia', 'log_Dist_Farmacia'], dtype='object')"
            ]
          },
          "metadata": {},
          "execution_count": 94
        }
      ]
    },
    {
      "cell_type": "code",
      "source": [
        "index = ['Intercepto','log Área', 'log Distância até a Praia']"
      ],
      "metadata": {
        "id": "gJe8fMafHHSS"
      },
      "execution_count": 95,
      "outputs": []
    },
    {
      "cell_type": "code",
      "source": [
        "pd.DataFrame(data=np.append(modelo.intercept_, modelo.coef_,), index=index, columns=['Parâmetros'])"
      ],
      "metadata": {
        "colab": {
          "base_uri": "https://localhost:8080/",
          "height": 432
        },
        "id": "hE_hEFbjHn6Z",
        "outputId": "6194b70c-bf38-4a7a-fe90-70accdcd41f5"
      },
    {
      "cell_type": "markdown",
      "source": [
        "##**Analises Graficas**"
      ],
      "metadata": {
        "id": "gQVtu-5yJxgO"
      }
    },
    {
      "cell_type": "code",
      "source": [
        "y_previsto_train = modelo.predict(x_train)"
      ],
      "metadata": {
        "id": "tggZbzOQIEIX"
      },
      "execution_count": 101,
      "outputs": []
    },
    {
      "cell_type": "code",
      "source": [
        "ax = sns.scatterplot(x=y_previsto_train, y=y_train)\n",
        "ax.figure.set_size_inches(12, 6)\n",
        "ax.set_title('Previsao X Real', fontsize=18)\n",
        "ax.set_xlabel('log do Preço - Previsão', fontsize=14)\n",
        "ax.set_ylabel('log do Preço - Real', fontsize=14)\n",
        "ax"
      ],
      "metadata": {
        "colab": {
          "base_uri": "https://localhost:8080/",
          "height": 429
        },
        "id": "MykSVqxTJ_cp",
        "outputId": "dd5d339d-097e-4d66-f79d-0dd657b260ae"
      },
      "execution_count": 102,
      "outputs": [
        {
          "output_type": "execute_result",
          "data": {
            "text/plain": [
              "<matplotlib.axes._subplots.AxesSubplot at 0x7fb478211790>"
            ]
          },
          "metadata": {},
          "execution_count": 102
        },
        {
          "output_type": "display_data",
          "data": {
            "image/png": "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\n",
            "text/plain": [
              "<Figure size 864x432 with 1 Axes>"
            ]
          },
          "metadata": {}
        }
      ]
    },
    {
      "cell_type": "code",
      "source": [
        "residuo = y_train - y_previsto_train"
      ],
      "metadata": {
        "id": "5qIZZo5GKEPA"
      },
      "execution_count": 103,
      "outputs": []
    },
    {
      "cell_type": "code",
      "source": [
        "ax = sns.distplot(residuo)\n",
        "ax.figure.set_size_inches(12, 6)\n",
        "ax.set_title('Distribuição de Frequências dos Resíduos', fontsize=18)\n",
        "ax.set_xlabel('log do preço', fontsize=14)\n",
        "ax"
      ],
      "metadata": {
        "colab": {
          "base_uri": "https://localhost:8080/",
          "height": 485
        },
        "id": "6mYIXecTKemG",
        "outputId": "9edab104-7a75-47a7-9118-40e6d5ad7913"
      },
      "execution_count": 104,
      "outputs": [
        {
          "output_type": "stream",
          "name": "stderr",
          "text": [
            "/usr/local/lib/python3.7/dist-packages/seaborn/distributions.py:2619: FutureWarning: `distplot` is a deprecated function and will be removed in a future version. Please adapt your code to use either `displot` (a figure-level function with similar flexibility) or `histplot` (an axes-level function for histograms).\n",
            "  warnings.warn(msg, FutureWarning)\n"
          ]
        },
        {
          "output_type": "execute_result",
          "data": {
            "text/plain": [
              "<matplotlib.axes._subplots.AxesSubplot at 0x7fb477c645d0>"
            ]
          },
          "metadata": {},
          "execution_count": 104
        },
        {
          "output_type": "display_data",
          "data": {
            "image/png": "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\n",
            "text/plain": [
              "<Figure size 864x432 with 1 Axes>"
            ]
          },
          "metadata": {}
        }
      ]
    },
    {
      "cell_type": "code",
      "source": [
        ""
      ],
      "metadata": {
        "id": "-8OJKx5NKhQc"
      },
      "execution_count": null,
      "outputs": []
    }
  ]
}
